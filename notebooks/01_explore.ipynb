{
 "cells": [
  {
   "cell_type": "markdown",
   "id": "74271e79",
   "metadata": {},
   "source": [
    "# Freight Margin Analytics — EDA\n",
    "\n",
    "Run the ETL once to generate data & figures:\n",
    "```bash\n",
    "python src/etl.py\n",
    "```\n",
    "Then execute the cells below."
   ]
  },
  {
   "cell_type": "code",
   "execution_count": null,
   "id": "f8c2b512",
   "metadata": {},
   "outputs": [],
   "source": [
    "from pathlib import Path\n",
    "import pandas as pd\n",
    "import matplotlib.pyplot as plt\n",
    "\n",
    "base = Path(__file__).resolve().parents[1]\n",
    "clean = base / 'data' / 'processed' / 'loads_clean.csv'\n",
    "df = pd.read_csv(clean, parse_dates=['pickup_date','delivery_date'])\n",
    "df.head()"
   ]
  },
  {
   "cell_type": "code",
   "execution_count": null,
   "id": "2f1c41ee",
   "metadata": {},
   "outputs": [],
   "source": [
    "# KPIs\n",
    "kpis = {\n",
    "    'total_loads': len(df),\n",
    "    'gross_revenue': df['gross_revenue'].sum(),\n",
    "    'gross_margin': df['gross_margin'].sum(),\n",
    "    'margin_pct': df['gross_margin'].sum()/df['gross_revenue'].sum(),\n",
    "    'on_time_rate': (df['on_time']==1).mean()\n",
    "}\n",
    "kpis"
   ]
  },
  {
   "cell_type": "code",
   "execution_count": null,
   "id": "a4999505",
   "metadata": {},
   "outputs": [],
   "source": [
    "# Top 10 shippers by margin\n",
    "ax = (df.groupby('shipper_id')['gross_margin'].sum()\n",
    "        .sort_values(ascending=False).head(10)\n",
    "        .plot(kind='bar', title='Top 10 Shippers by Margin'))\n",
    "ax.set_xlabel('Shipper ID'); ax.set_ylabel('Total Margin ($)')\n",
    "plt.tight_layout(); plt.show()"
   ]
  },
  {
   "cell_type": "code",
   "execution_count": null,
   "id": "5b572c61",
   "metadata": {},
   "outputs": [],
   "source": [
    "# Lane profitability (avg margin %)\n",
    "ax = (df.groupby('lane')['margin_pct'].mean()\n",
    "        .sort_values(ascending=False).head(15)\n",
    "        .plot(kind='bar', title='Top 15 Lanes by Avg Margin %'))\n",
    "ax.set_xlabel('Lane'); ax.set_ylabel('Avg Margin %')\n",
    "plt.tight_layout(); plt.show()"
   ]
  },
  {
   "cell_type": "code",
   "execution_count": null,
   "id": "1321297b",
   "metadata": {},
   "outputs": [],
   "source": [
    "# Does on-time performance correlate with margin %?\n",
    "s = df.sample(min(3000, len(df)), random_state=42)\n",
    "ax = s.plot(kind='scatter', x='on_time', y='margin_pct', title='Margin % vs On-Time (0/1)')\n",
    "plt.tight_layout(); plt.show()"
   ]
  }
 ],
 "metadata": {},
 "nbformat": 4,
 "nbformat_minor": 5
}
